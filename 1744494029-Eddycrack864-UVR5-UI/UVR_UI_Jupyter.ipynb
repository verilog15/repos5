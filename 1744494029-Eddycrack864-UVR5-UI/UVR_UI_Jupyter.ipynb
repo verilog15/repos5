{
 "cells": [
  {
   "cell_type": "code",
   "execution_count": null,
   "id": "684c7040",
   "metadata": {},
   "outputs": [],
   "source": [
    "# UVR5-UI Jupyther Notebook\n",
    "# Author: iroaK (@bastianmarin)\n",
    "# Docker: >= ubuntu/ubuntu:20.04\n",
    "# Jupyther: >= 7.3.1\n",
    "# I probably have this booklet updated, but if there are any weird bugs, talk to me on my discord \"iroaK\". \n",
    "# Just bug fixes for the booklet. It's not for support on how to use it."
   ]
  },
  {
   "cell_type": "code",
   "execution_count": 10,
   "id": "e117edb6-e4c4-4eee-944b-03ad8f6fb2e2",
   "metadata": {},
   "outputs": [],
   "source": [
    "# Asignación de variables\n",
    "INSTALL_DIR = !pwd\n",
    "INSTALL_DIR = INSTALL_DIR[0]\n",
    "MINICONDA_DIR = f\"{INSTALL_DIR}/miniconda3\"\n",
    "ENV_DIR = f\"{INSTALL_DIR}/env\"\n",
    "MINICONDA_URL = \"https://repo.anaconda.com/miniconda/Miniconda3-py310_24.7.1-0-Linux-x86_64.sh\"\n",
    "CONDA_PATH = f\"{MINICONDA_DIR}/bin/conda\""
   ]
  },
  {
   "cell_type": "code",
   "execution_count": null,
   "id": "72376283-a521-49bd-ad6c-28caafe5b5bb",
   "metadata": {},
   "outputs": [],
   "source": [
    "# Descarga e instalación de Miniconda\n",
    "import os\n",
    "from IPython.display import clear_output\n",
    "if not os.path.exists(CONDA_PATH):\n",
    "    print(\"Miniconda not found. Starting download and installation...\")\n",
    "    !wget -O miniconda.sh {MINICONDA_URL}\n",
    "    !bash miniconda.sh -b -p {MINICONDA_DIR}\n",
    "    !rm miniconda.sh\n",
    "    clear_output()\n",
    "    print(\"Miniconda installation complete.\")\n",
    "else:\n",
    "    print(\"Miniconda already installed. Skipping installation.\")"
   ]
  },
  {
   "cell_type": "code",
   "execution_count": null,
   "id": "4a11b29b-27bd-4416-a1f0-273feeca3fd5",
   "metadata": {},
   "outputs": [],
   "source": [
    "# Creación de entorno Conda (Python 3.10)\n",
    "print(\"Creating Conda environment...\")\n",
    "!{CONDA_PATH} create --no-shortcuts -y --prefix \"{ENV_DIR}\" python=3.10.12\n",
    "clear_output()\n",
    "print(\"Conda environment created successfully.\")"
   ]
  },
  {
   "cell_type": "code",
   "execution_count": null,
   "id": "68cb2d25-4051-4326-b96c-936ae3d49e78",
   "metadata": {},
   "outputs": [],
   "source": [
    "# Clonación de UVR5 UI\n",
    "!git clone https://github.com/Eddycrack864/UVR5-UI.git\n",
    "clear_output()\n",
    "print(\"UVR5 UI cloned successfully.\")"
   ]
  },
  {
   "cell_type": "code",
   "execution_count": null,
   "id": "6555122e-2205-4925-97af-176209ed977b",
   "metadata": {},
   "outputs": [],
   "source": [
    "# Instalación de dependencias\n",
    "print(\"Installing dependencies...\")\n",
    "!source {MINICONDA_DIR}/bin/activate \"{ENV_DIR}\" && \\\n",
    "    pip install \"pip==24.1.2\" && \\\n",
    "    pip install -r \"{INSTALL_DIR}/UVR5-UI/requirements.txt\" && \\\n",
    "    pip uninstall torch torchvision -y && \\\n",
    "    pip install torch torchvision --index-url https://download.pytorch.org/whl/cu121 && \\\n",
    "!conda deactivate\n",
    "clear_output()\n",
    "print(\"Dependencies installation complete.\")"
   ]
  },
  {
   "cell_type": "code",
   "execution_count": null,
   "id": "d08fbe53-8762-473f-ad27-4ad4daddbf3d",
   "metadata": {},
   "outputs": [],
   "source": [
    "# Correr UVR5-UI \n",
    "!cd UVR5-UI && ../env/bin/python app.py --share"
   ]
  }
 ],
 "metadata": {
  "kernelspec": {
   "display_name": "Python 3 (ipykernel)",
   "language": "python",
   "name": "python3"
  },
  "language_info": {
   "codemirror_mode": {
    "name": "ipython",
    "version": 3
   },
   "file_extension": ".py",
   "mimetype": "text/x-python",
   "name": "python",
   "nbconvert_exporter": "python",
   "pygments_lexer": "ipython3",
   "version": "3.8.10"
  }
 },
 "nbformat": 4,
 "nbformat_minor": 5
}
